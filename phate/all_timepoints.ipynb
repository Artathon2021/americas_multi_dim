{
  "nbformat": 4,
  "nbformat_minor": 0,
  "metadata": {
    "colab": {
      "name": "all_timepoints.ipynb",
      "provenance": [],
      "collapsed_sections": []
    },
    "kernelspec": {
      "name": "python3",
      "display_name": "Python 3"
    },
    "language_info": {
      "name": "python"
    }
  },
  "cells": [
    {
      "cell_type": "markdown",
      "metadata": {
        "id": "EGrrN-d1jXKB"
      },
      "source": [
        "## Testing Levenshtein distance and PHATE on tsv files\n",
        "1. Pull tsv data into your favorite dataframe\n",
        "2. Run through Lev distance to get adjacency matrix\n",
        "3. <s>Combine adjacency matrix and original dataframe</s> No need, PHATE can take just the matrix\n",
        "4. Pass to PHATE"
      ]
    },
    {
      "cell_type": "code",
      "metadata": {
        "colab": {
          "base_uri": "https://localhost:8080/"
        },
        "id": "HSFpKcOUlDJq",
        "outputId": "0a0b517a-64da-4677-f838-e4db94b0082f"
      },
      "source": [
        "# Install necessary packages into the Google Collab notebook\n",
        "!pip install python-Levenshtein\n",
        "!pip install phate "
      ],
      "execution_count": null,
      "outputs": [
        {
          "output_type": "stream",
          "text": [
            "Collecting python-Levenshtein\n",
            "\u001b[?25l  Downloading https://files.pythonhosted.org/packages/2a/dc/97f2b63ef0fa1fd78dcb7195aca577804f6b2b51e712516cc0e902a9a201/python-Levenshtein-0.12.2.tar.gz (50kB)\n",
            "\r\u001b[K     |██████▌                         | 10kB 15.1MB/s eta 0:00:01\r\u001b[K     |█████████████                   | 20kB 19.5MB/s eta 0:00:01\r\u001b[K     |███████████████████▌            | 30kB 10.4MB/s eta 0:00:01\r\u001b[K     |██████████████████████████      | 40kB 8.4MB/s eta 0:00:01\r\u001b[K     |████████████████████████████████| 51kB 3.1MB/s \n",
            "\u001b[?25hRequirement already satisfied: setuptools in /usr/local/lib/python3.7/dist-packages (from python-Levenshtein) (57.0.0)\n",
            "Building wheels for collected packages: python-Levenshtein\n",
            "  Building wheel for python-Levenshtein (setup.py) ... \u001b[?25l\u001b[?25hdone\n",
            "  Created wheel for python-Levenshtein: filename=python_Levenshtein-0.12.2-cp37-cp37m-linux_x86_64.whl size=149811 sha256=e530fbfdfcf0f9055eef0fdccde5812c843859f580ec1d7a24504b25840912f0\n",
            "  Stored in directory: /root/.cache/pip/wheels/b3/26/73/4b48503bac73f01cf18e52cd250947049a7f339e940c5df8fc\n",
            "Successfully built python-Levenshtein\n",
            "Installing collected packages: python-Levenshtein\n",
            "Successfully installed python-Levenshtein-0.12.2\n",
            "Collecting phate\n",
            "  Downloading https://files.pythonhosted.org/packages/0c/79/7f72c9d32bfd37a2d089fb4df8c50acb6e30813c33a7e9e982ef2f45c8d0/phate-1.0.7-py3-none-any.whl\n",
            "Collecting scprep>=0.11.1\n",
            "\u001b[?25l  Downloading https://files.pythonhosted.org/packages/92/91/dfb35608ffae7eb0f45b565e702d3083d784988200ab6a967fd3f60d833e/scprep-1.1.0-py3-none-any.whl (104kB)\n",
            "\u001b[K     |████████████████████████████████| 112kB 7.9MB/s \n",
            "\u001b[?25hCollecting Deprecated\n",
            "  Downloading https://files.pythonhosted.org/packages/fb/73/994edfcba74443146c84b91921fcc269374354118d4f452fb0c54c1cbb12/Deprecated-1.2.12-py2.py3-none-any.whl\n",
            "Collecting s-gd2>=1.5\n",
            "\u001b[?25l  Downloading https://files.pythonhosted.org/packages/ab/46/aa500f0141a184f2b94f0b26aa01722b2d74bca50b1c4a02ee388aee2dc7/s_gd2-1.8-cp37-cp37m-manylinux2010_x86_64.whl (416kB)\n",
            "\u001b[K     |████████████████████████████████| 419kB 31.6MB/s \n",
            "\u001b[?25hRequirement already satisfied: numpy>=1.16.0 in /usr/local/lib/python3.7/dist-packages (from phate) (1.19.5)\n",
            "Requirement already satisfied: matplotlib>=3.0 in /usr/local/lib/python3.7/dist-packages (from phate) (3.2.2)\n",
            "Requirement already satisfied: future in /usr/local/lib/python3.7/dist-packages (from phate) (0.16.0)\n",
            "Requirement already satisfied: scikit-learn>=0.20.0 in /usr/local/lib/python3.7/dist-packages (from phate) (0.22.2.post1)\n",
            "Requirement already satisfied: scipy>=1.1.0 in /usr/local/lib/python3.7/dist-packages (from phate) (1.4.1)\n",
            "Collecting graphtools>=1.3.1\n",
            "\u001b[?25l  Downloading https://files.pythonhosted.org/packages/dc/99/cc0d01f15c40656047caae88bbd3909ff535c116f2bba9e914423c8140e9/graphtools-1.5.2-py3-none-any.whl (45kB)\n",
            "\u001b[K     |████████████████████████████████| 51kB 6.9MB/s \n",
            "\u001b[?25hCollecting tasklogger>=1.0\n",
            "  Downloading https://files.pythonhosted.org/packages/2a/ba/d9b56be2de592e106013930718ba3d3bb0154ae55a3a4ab59197324dd60e/tasklogger-1.1.0-py3-none-any.whl\n",
            "Requirement already satisfied: decorator>=4.3.0 in /usr/local/lib/python3.7/dist-packages (from scprep>=0.11.1->phate) (4.4.2)\n",
            "Requirement already satisfied: pandas>=0.25 in /usr/local/lib/python3.7/dist-packages (from scprep>=0.11.1->phate) (1.1.5)\n",
            "Requirement already satisfied: packaging in /usr/local/lib/python3.7/dist-packages (from scprep>=0.11.1->phate) (20.9)\n",
            "Requirement already satisfied: wrapt<2,>=1.10 in /usr/local/lib/python3.7/dist-packages (from Deprecated->phate) (1.12.1)\n",
            "Requirement already satisfied: cycler>=0.10 in /usr/local/lib/python3.7/dist-packages (from matplotlib>=3.0->phate) (0.10.0)\n",
            "Requirement already satisfied: python-dateutil>=2.1 in /usr/local/lib/python3.7/dist-packages (from matplotlib>=3.0->phate) (2.8.1)\n",
            "Requirement already satisfied: kiwisolver>=1.0.1 in /usr/local/lib/python3.7/dist-packages (from matplotlib>=3.0->phate) (1.3.1)\n",
            "Requirement already satisfied: pyparsing!=2.0.4,!=2.1.2,!=2.1.6,>=2.0.1 in /usr/local/lib/python3.7/dist-packages (from matplotlib>=3.0->phate) (2.4.7)\n",
            "Requirement already satisfied: joblib>=0.11 in /usr/local/lib/python3.7/dist-packages (from scikit-learn>=0.20.0->phate) (1.0.1)\n",
            "Collecting pygsp>=0.5.1\n",
            "\u001b[?25l  Downloading https://files.pythonhosted.org/packages/d4/89/2f4aa73cccf12bec5179ac5d52a68b508120c838b7e5d456f5ea0c8beade/PyGSP-0.5.1-py2.py3-none-any.whl (1.8MB)\n",
            "\u001b[K     |████████████████████████████████| 1.8MB 31.6MB/s \n",
            "\u001b[?25hRequirement already satisfied: pytz>=2017.2 in /usr/local/lib/python3.7/dist-packages (from pandas>=0.25->scprep>=0.11.1->phate) (2018.9)\n",
            "Requirement already satisfied: six in /usr/local/lib/python3.7/dist-packages (from cycler>=0.10->matplotlib>=3.0->phate) (1.15.0)\n",
            "Installing collected packages: scprep, Deprecated, s-gd2, pygsp, tasklogger, graphtools, phate\n",
            "Successfully installed Deprecated-1.2.12 graphtools-1.5.2 phate-1.0.7 pygsp-0.5.1 s-gd2-1.8 scprep-1.1.0 tasklogger-1.1.0\n"
          ],
          "name": "stdout"
        }
      ]
    },
    {
      "cell_type": "code",
      "metadata": {
        "id": "E5kBwwIUjQ5X"
      },
      "source": [
        "# Importing favorite packages\n",
        "from Levenshtein import ratio, distance # https://rawgit.com/ztane/python-Levenshtein/master/docs/Levenshtein.html#Levenshtein-ratio\n",
        "import phate\n",
        "import pandas as pd\n",
        "import numpy as np \n",
        "import os"
      ],
      "execution_count": null,
      "outputs": []
    },
    {
      "cell_type": "markdown",
      "metadata": {
        "id": "f_iRDjH_lLIy"
      },
      "source": [
        "\n",
        "\n",
        "---\n",
        "\n",
        "\n",
        "### Grabbing Data"
      ]
    },
    {
      "cell_type": "code",
      "metadata": {
        "colab": {
          "base_uri": "https://localhost:8080/"
        },
        "id": "sebhVZeclZHX",
        "outputId": "2c14f174-5399-43db-ddea-234fd8b2a2de"
      },
      "source": [
        "from google.colab import drive\n",
        "drive.mount('/content/drive')"
      ],
      "execution_count": null,
      "outputs": [
        {
          "output_type": "stream",
          "text": [
            "Mounted at /content/drive\n"
          ],
          "name": "stdout"
        }
      ]
    },
    {
      "cell_type": "code",
      "metadata": {
        "id": "hwJKJ_0slSt7"
      },
      "source": [
        "# Peek to see if file is there\n",
        "file_paths = [\"/content/drive/MyDrive/Team 1/Covid_Vaccine_6fbca1da-1a25-4848-ae35-eaffc6bb392b/IHCV2020-020.IHCV2020-020-Spikepos-Mem-B-1TP.pooled.tsv\", \n",
        "              \"/content/drive/MyDrive/Team 1/Covid_Vaccine_6fbca1da-1a25-4848-ae35-eaffc6bb392b/IHCV2020-020.IHCV2020-020-Spikepos-Mem-B-2TP.pooled.tsv\", \n",
        "              \"/content/drive/MyDrive/Team 1/Covid_Vaccine_6fbca1da-1a25-4848-ae35-eaffc6bb392b/IHCV2020-020.IHCV2020-020-Spikepos-Mem-B-4TP.pooled.tsv\"]\n",
        "for file in file_paths : assert os.path.isfile(file), \"File {} doesn't exist or isn't readable\".format(file)"
      ],
      "execution_count": null,
      "outputs": []
    },
    {
      "cell_type": "code",
      "metadata": {
        "id": "kw_9KeD9nnL7"
      },
      "source": [
        "# Combine data across tsvs's \n",
        "frames = [] \n",
        "\n",
        "for file in file_paths : \n",
        "  frames.append(pd.read_csv(file, sep = '\\t'))\n",
        "\n",
        "# Adding timepoint markers to files\n",
        "timepoints = [1, 2, 4]\n",
        "for i in range(len(frames)) : \n",
        "  frames[i]['timepoint'] = timepoints[i]\n",
        "\n",
        "data = pd.concat(frames)"
      ],
      "execution_count": null,
      "outputs": []
    },
    {
      "cell_type": "code",
      "metadata": {
        "colab": {
          "base_uri": "https://localhost:8080/",
          "height": 324
        },
        "id": "T_tYJd7an7La",
        "outputId": "9764a230-3ed3-4836-ffb8-94844feeaa60"
      },
      "source": [
        "# Take a peek at our loaded data\n",
        "data.head()"
      ],
      "execution_count": null,
      "outputs": [
        {
          "output_type": "execute_result",
          "data": {
            "text/html": [
              "<div>\n",
              "<style scoped>\n",
              "    .dataframe tbody tr th:only-of-type {\n",
              "        vertical-align: middle;\n",
              "    }\n",
              "\n",
              "    .dataframe tbody tr th {\n",
              "        vertical-align: top;\n",
              "    }\n",
              "\n",
              "    .dataframe thead th {\n",
              "        text-align: right;\n",
              "    }\n",
              "</style>\n",
              "<table border=\"1\" class=\"dataframe\">\n",
              "  <thead>\n",
              "    <tr style=\"text-align: right;\">\n",
              "      <th></th>\n",
              "      <th>Unnamed: 0</th>\n",
              "      <th>clone_id</th>\n",
              "      <th>subject</th>\n",
              "      <th>v_gene</th>\n",
              "      <th>j_gene</th>\n",
              "      <th>functional</th>\n",
              "      <th>insertions</th>\n",
              "      <th>deletions</th>\n",
              "      <th>cdr3_nt</th>\n",
              "      <th>cdr3_num_nts</th>\n",
              "      <th>cdr3_aa</th>\n",
              "      <th>uniques</th>\n",
              "      <th>instances</th>\n",
              "      <th>copies</th>\n",
              "      <th>germline</th>\n",
              "      <th>parent_id</th>\n",
              "      <th>avg_v_identity</th>\n",
              "      <th>top_copy_seq</th>\n",
              "      <th>timepoint</th>\n",
              "    </tr>\n",
              "  </thead>\n",
              "  <tbody>\n",
              "    <tr>\n",
              "      <th>0</th>\n",
              "      <td>2</td>\n",
              "      <td>254989</td>\n",
              "      <td>IHCV2020-020</td>\n",
              "      <td>IGHV1-18</td>\n",
              "      <td>IGHJ5</td>\n",
              "      <td>T</td>\n",
              "      <td>NaN</td>\n",
              "      <td>NaN</td>\n",
              "      <td>TGTGCGAGGAGGGGAATAGGTCGAAACGACCCCTGG</td>\n",
              "      <td>36</td>\n",
              "      <td>CARRGIGRNDPW</td>\n",
              "      <td>972</td>\n",
              "      <td>833</td>\n",
              "      <td>2036</td>\n",
              "      <td>CAGGTTCAGCTGGTGCAGTCTGGAGCT---GAGGTGAAGAAGCCTG...</td>\n",
              "      <td>NaN</td>\n",
              "      <td>0.9356</td>\n",
              "      <td>NNNNNNNNNNNNNNNNNNNNNNNNNNN---NNNNNNNNNNNNNNNN...</td>\n",
              "      <td>1</td>\n",
              "    </tr>\n",
              "    <tr>\n",
              "      <th>1</th>\n",
              "      <td>690</td>\n",
              "      <td>426166</td>\n",
              "      <td>IHCV2020-020</td>\n",
              "      <td>IGHV4-59</td>\n",
              "      <td>IGHJ3</td>\n",
              "      <td>T</td>\n",
              "      <td>NaN</td>\n",
              "      <td>NaN</td>\n",
              "      <td>TGTGCGAGGTTTGGTATTACCATGGTAGTGGTCGACGATGCTTTTG...</td>\n",
              "      <td>54</td>\n",
              "      <td>CARFGITMVVVDDAFDLW</td>\n",
              "      <td>569</td>\n",
              "      <td>576</td>\n",
              "      <td>1793</td>\n",
              "      <td>CAGGTGCAGCTGCAGGAGTCGGGCCCA---GGACTGGTGAAGCCTT...</td>\n",
              "      <td>NaN</td>\n",
              "      <td>0.8917</td>\n",
              "      <td>NNNNNNNNNNNNNNNNNNNNNNNNNNN---NNNNNNNNNNNNNNNN...</td>\n",
              "      <td>1</td>\n",
              "    </tr>\n",
              "    <tr>\n",
              "      <th>2</th>\n",
              "      <td>331</td>\n",
              "      <td>260919</td>\n",
              "      <td>IHCV2020-020</td>\n",
              "      <td>IGHV1-2</td>\n",
              "      <td>IGHJ5</td>\n",
              "      <td>T</td>\n",
              "      <td>NaN</td>\n",
              "      <td>NaN</td>\n",
              "      <td>TGTGCGAGATCCTCTGAGGGGAGTGGCCCCTGGGTCTGGTTCGACC...</td>\n",
              "      <td>51</td>\n",
              "      <td>CARSSEGSGPWVWFDPW</td>\n",
              "      <td>739</td>\n",
              "      <td>744</td>\n",
              "      <td>1789</td>\n",
              "      <td>CAGGTGCAGCTGGTGCAGTCTGGGGCT---GAGGTGAAGAAGCCTG...</td>\n",
              "      <td>NaN</td>\n",
              "      <td>0.9621</td>\n",
              "      <td>NNNNNNNNNNNNNNNNNNNNNNNNNNN---NNNNNNNNNNNNNNNN...</td>\n",
              "      <td>1</td>\n",
              "    </tr>\n",
              "    <tr>\n",
              "      <th>3</th>\n",
              "      <td>443</td>\n",
              "      <td>302176</td>\n",
              "      <td>IHCV2020-020</td>\n",
              "      <td>IGHV3-21</td>\n",
              "      <td>IGHJ5</td>\n",
              "      <td>T</td>\n",
              "      <td>NaN</td>\n",
              "      <td>NaN</td>\n",
              "      <td>TGTGCGAGACACGCTACAGGAATTACGGATTGCTGGTTCGACCCCTGG</td>\n",
              "      <td>48</td>\n",
              "      <td>CARHATGITDCWFDPW</td>\n",
              "      <td>754</td>\n",
              "      <td>771</td>\n",
              "      <td>1616</td>\n",
              "      <td>GAGGTGCAGCTGGTGGAGTCTGGGGGA---GGCCTGGTCAAGCCTG...</td>\n",
              "      <td>NaN</td>\n",
              "      <td>0.9564</td>\n",
              "      <td>NNNNNNNNNNNNNNNNNNNNNNNNNNN---NNNNNNNNNNNNNNNN...</td>\n",
              "      <td>1</td>\n",
              "    </tr>\n",
              "    <tr>\n",
              "      <th>4</th>\n",
              "      <td>660</td>\n",
              "      <td>404050</td>\n",
              "      <td>IHCV2020-020</td>\n",
              "      <td>IGHV4-31</td>\n",
              "      <td>IGHJ5</td>\n",
              "      <td>T</td>\n",
              "      <td>NaN</td>\n",
              "      <td>NaN</td>\n",
              "      <td>TGTGCGAATCATAGGGCTTGGAGAGGGGGGTTCGACTCCTGG</td>\n",
              "      <td>42</td>\n",
              "      <td>CANHRAWRGGFDSW</td>\n",
              "      <td>575</td>\n",
              "      <td>585</td>\n",
              "      <td>1592</td>\n",
              "      <td>CAGGTGCAGCTGCAGGAGTCGGGCCCA---GGACTGGTGAAGCCTT...</td>\n",
              "      <td>NaN</td>\n",
              "      <td>0.9549</td>\n",
              "      <td>NNNNNNNNNNNNNNNNNNNNNNNNNNN---NNNNNNNNNNNNNNNN...</td>\n",
              "      <td>1</td>\n",
              "    </tr>\n",
              "  </tbody>\n",
              "</table>\n",
              "</div>"
            ],
            "text/plain": [
              "   Unnamed: 0  ...  timepoint\n",
              "0           2  ...          1\n",
              "1         690  ...          1\n",
              "2         331  ...          1\n",
              "3         443  ...          1\n",
              "4         660  ...          1\n",
              "\n",
              "[5 rows x 19 columns]"
            ]
          },
          "metadata": {
            "tags": []
          },
          "execution_count": 8
        }
      ]
    },
    {
      "cell_type": "markdown",
      "metadata": {
        "id": "Xz7PBHenon5V"
      },
      "source": [
        "\n",
        "\n",
        "---\n",
        "\n",
        "\n",
        "### Creating Adjacency Matrix using Edit-Distance"
      ]
    },
    {
      "cell_type": "code",
      "metadata": {
        "colab": {
          "base_uri": "https://localhost:8080/"
        },
        "id": "0Zm6zZpIolwa",
        "outputId": "50668097-bf74-4f43-d810-863f614d4fdf"
      },
      "source": [
        "# Simple loop through cdr3_aa to create distances\n",
        "\n",
        "# Make our adj matrix first\n",
        "num_clones = len(data.index)\n",
        "print(\"Using\", num_clones, \"rows\")\n",
        "adj_matrix = np.zeros((num_clones, num_clones))\n",
        "\n",
        "# Make a simple reference list of sequences instead of having to access the dataframe\n",
        "seqs = data.loc[:,'cdr3_aa'].values\n",
        "\n",
        "import time\n",
        "start = time.time()\n",
        "for i in range(num_clones) : \n",
        "  for j in range(num_clones) : \n",
        "    # adj_matrix[i][j] = max(0, (ratio(seqs[i], seqs[j])-0.45)**2) # by thresholded + stretched levenshtein \"ratio\"/similarity\n",
        "    adj_matrix[i][j] = distance(seqs[i], seqs[j]) # by levenshtein \"ratio\"/similarity\n",
        "    # if adj_matrix[i][j] != 0.0 : adj_matrix[i][j] += 0.5\n",
        "    # adj_matrix[i][j] = distance(seqs[i], seqs[j]) # by levenshtein distance\n",
        "print(\"Took\", time.time()-start, \"seconds\")"
      ],
      "execution_count": null,
      "outputs": [
        {
          "output_type": "stream",
          "text": [
            "Using 2346 rows\n",
            "Took 6.651402473449707 seconds\n"
          ],
          "name": "stdout"
        }
      ]
    },
    {
      "cell_type": "code",
      "metadata": {
        "colab": {
          "base_uri": "https://localhost:8080/"
        },
        "id": "LeGozV6mqDdO",
        "outputId": "79dc3271-de95-4b5a-fc1f-3eb0b64c8968"
      },
      "source": [
        "# Take a peek at the adj matrix\n",
        "adj_matrix"
      ],
      "execution_count": null,
      "outputs": [
        {
          "output_type": "execute_result",
          "data": {
            "text/plain": [
              "array([[ 0., 11.,  9., ..., 10., 12., 14.],\n",
              "       [11.,  0., 12., ..., 14., 14., 10.],\n",
              "       [ 9., 12.,  0., ..., 13., 13., 13.],\n",
              "       ...,\n",
              "       [10., 14., 13., ...,  0., 11., 16.],\n",
              "       [12., 14., 13., ..., 11.,  0., 15.],\n",
              "       [14., 10., 13., ..., 16., 15.,  0.]])"
            ]
          },
          "metadata": {
            "tags": []
          },
          "execution_count": 10
        }
      ]
    },
    {
      "cell_type": "markdown",
      "metadata": {
        "id": "7CpL-oKUqLCv"
      },
      "source": [
        "\n",
        "\n",
        "---\n",
        "### Test PHATE\n"
      ]
    },
    {
      "cell_type": "code",
      "metadata": {
        "colab": {
          "base_uri": "https://localhost:8080/"
        },
        "id": "n5JPkIKDqOzy",
        "outputId": "e38f18b1-e226-4590-cdf0-d1054e9e8f44"
      },
      "source": [
        "phate_operator = phate.PHATE(knn=15, decay=20, t=150, knn_dist='precomputed')\n",
        "Y_phate = phate_operator.fit_transform(adj_matrix)"
      ],
      "execution_count": 26,
      "outputs": [
        {
          "output_type": "stream",
          "text": [
            "Calculating PHATE...\n",
            "  Running PHATE on precomputed distance matrix with 2346 observations.\n",
            "  Calculating graph and diffusion operator...\n",
            "    Calculating affinities...\n",
            "    Calculated affinities in 0.62 seconds.\n",
            "  Calculated graph and diffusion operator in 0.72 seconds.\n",
            "  Calculating landmark operator...\n",
            "    Calculating SVD...\n",
            "    Calculated SVD in 1.78 seconds.\n",
            "    Calculating KMeans...\n",
            "    Calculated KMeans in 27.60 seconds.\n",
            "  Calculated landmark operator in 30.13 seconds.\n",
            "  Calculating diffusion potential...\n",
            "  Calculated diffusion potential in 5.02 seconds.\n",
            "  Calculating metric MDS...\n",
            "  Calculated metric MDS in 8.57 seconds.\n",
            "Calculated PHATE in 44.48 seconds.\n"
          ],
          "name": "stdout"
        }
      ]
    },
    {
      "cell_type": "code",
      "metadata": {
        "colab": {
          "base_uri": "https://localhost:8080/",
          "height": 282
        },
        "id": "-8RXiJHgrRTM",
        "outputId": "be94c542-7052-4ff7-ddbc-83e9faa2529f"
      },
      "source": [
        "# Take a peek at the coords\n",
        "import matplotlib.pyplot as plt\n",
        "plt.scatter(Y_phate[:,0], Y_phate[:,1])"
      ],
      "execution_count": 27,
      "outputs": [
        {
          "output_type": "execute_result",
          "data": {
            "text/plain": [
              "<matplotlib.collections.PathCollection at 0x7f8cde299d90>"
            ]
          },
          "metadata": {
            "tags": []
          },
          "execution_count": 27
        },
        {
          "output_type": "display_data",
          "data": {
            "image/png": "[encoded data removed]",
            "text/plain": [
              "<Figure size 432x288 with 1 Axes>"
            ]
          },
          "metadata": {
            "tags": [],
            "needs_background": "light"
          }
        }
      ]
    },
    {
      "cell_type": "code",
      "metadata": {
        "id": "h6AnMB9mzla9"
      },
      "source": [
        "# Save our coords along with all the data\n",
        "data['phate1'] = Y_phate[:,0]\n",
        "data['phate2'] = Y_phate[:,1]\n",
        "\n",
        "data.to_csv(\"all_timepoints_phate.tsv\", sep=\"\\t\", index=False)"
      ],
      "execution_count": null,
      "outputs": []
    },
    {
      "cell_type": "code",
      "metadata": {
        "colab": {
          "base_uri": "https://localhost:8080/"
        },
        "id": "smX5KJAd5Bog",
        "outputId": "0184866a-9366-47dd-c6b5-0bfee624fd7d"
      },
      "source": [
        "# RUN MANY PHATE FITS FOR DIFFERENT PARAMETERS\n",
        "# Going to change the timesteps for the diffusion operator\n",
        "possible_t = [10*n for n in range(1, 16)]\n",
        "\n",
        "for test_t in possible_t : \n",
        "  phate_operator = phate.PHATE(knn=15, decay=20, t=test_t, knn_dist='precomputed')\n",
        "  Y_phate = phate_operator.fit_transform(adj_matrix)\n",
        "  data['phate_x_' + str(test_t)] = Y_phate[:,0]\n",
        "  data['phate_y_' + str(test_t)] = Y_phate[:,1]\n",
        "\n",
        "data.to_csv(\"all_timepoints_multi_phate.tsv\", sep=\"\\t\", index=False)"
      ],
      "execution_count": 29,
      "outputs": [
        {
          "output_type": "stream",
          "text": [
            "Calculating PHATE...\n",
            "  Running PHATE on precomputed distance matrix with 2346 observations.\n",
            "  Calculating graph and diffusion operator...\n",
            "    Calculating affinities...\n",
            "    Calculated affinities in 0.63 seconds.\n",
            "  Calculated graph and diffusion operator in 0.74 seconds.\n",
            "  Calculating landmark operator...\n",
            "    Calculating SVD...\n",
            "    Calculated SVD in 1.78 seconds.\n",
            "    Calculating KMeans...\n",
            "    Calculated KMeans in 19.42 seconds.\n",
            "  Calculated landmark operator in 21.93 seconds.\n",
            "  Calculating diffusion potential...\n",
            "  Calculated diffusion potential in 2.10 seconds.\n",
            "  Calculating metric MDS...\n",
            "  Calculated metric MDS in 8.63 seconds.\n",
            "Calculated PHATE in 33.46 seconds.\n",
            "Calculating PHATE...\n",
            "  Running PHATE on precomputed distance matrix with 2346 observations.\n",
            "  Calculating graph and diffusion operator...\n",
            "    Calculating affinities...\n",
            "    Calculated affinities in 0.61 seconds.\n",
            "  Calculated graph and diffusion operator in 0.71 seconds.\n",
            "  Calculating landmark operator...\n",
            "    Calculating SVD...\n",
            "    Calculated SVD in 1.78 seconds.\n",
            "    Calculating KMeans...\n",
            "    Calculated KMeans in 25.15 seconds.\n",
            "  Calculated landmark operator in 27.67 seconds.\n",
            "  Calculating diffusion potential...\n",
            "  Calculated diffusion potential in 2.57 seconds.\n",
            "  Calculating metric MDS...\n",
            "  Calculated metric MDS in 8.63 seconds.\n",
            "Calculated PHATE in 39.63 seconds.\n",
            "Calculating PHATE...\n",
            "  Running PHATE on precomputed distance matrix with 2346 observations.\n",
            "  Calculating graph and diffusion operator...\n",
            "    Calculating affinities...\n",
            "    Calculated affinities in 0.61 seconds.\n",
            "  Calculated graph and diffusion operator in 0.72 seconds.\n",
            "  Calculating landmark operator...\n",
            "    Calculating SVD...\n",
            "    Calculated SVD in 1.73 seconds.\n",
            "    Calculating KMeans...\n",
            "    Calculated KMeans in 17.83 seconds.\n",
            "  Calculated landmark operator in 20.29 seconds.\n",
            "  Calculating diffusion potential...\n",
            "  Calculated diffusion potential in 3.58 seconds.\n",
            "  Calculating metric MDS...\n",
            "  Calculated metric MDS in 8.61 seconds.\n",
            "Calculated PHATE in 33.25 seconds.\n",
            "Calculating PHATE...\n",
            "  Running PHATE on precomputed distance matrix with 2346 observations.\n",
            "  Calculating graph and diffusion operator...\n",
            "    Calculating affinities...\n",
            "    Calculated affinities in 0.62 seconds.\n",
            "  Calculated graph and diffusion operator in 0.72 seconds.\n",
            "  Calculating landmark operator...\n",
            "    Calculating SVD...\n",
            "    Calculated SVD in 1.78 seconds.\n",
            "    Calculating KMeans...\n",
            "    Calculated KMeans in 20.60 seconds.\n",
            "  Calculated landmark operator in 23.14 seconds.\n",
            "  Calculating diffusion potential...\n",
            "  Calculated diffusion potential in 3.05 seconds.\n",
            "  Calculating metric MDS...\n",
            "  Calculated metric MDS in 8.65 seconds.\n",
            "Calculated PHATE in 35.62 seconds.\n",
            "Calculating PHATE...\n",
            "  Running PHATE on precomputed distance matrix with 2346 observations.\n",
            "  Calculating graph and diffusion operator...\n",
            "    Calculating affinities...\n",
            "    Calculated affinities in 0.62 seconds.\n",
            "  Calculated graph and diffusion operator in 0.72 seconds.\n",
            "  Calculating landmark operator...\n",
            "    Calculating SVD...\n",
            "    Calculated SVD in 1.78 seconds.\n",
            "    Calculating KMeans...\n",
            "    Calculated KMeans in 20.61 seconds.\n",
            "  Calculated landmark operator in 23.15 seconds.\n",
            "  Calculating diffusion potential...\n",
            "  Calculated diffusion potential in 3.56 seconds.\n",
            "  Calculating metric MDS...\n",
            "  Calculated metric MDS in 8.54 seconds.\n",
            "Calculated PHATE in 36.03 seconds.\n",
            "Calculating PHATE...\n",
            "  Running PHATE on precomputed distance matrix with 2346 observations.\n",
            "  Calculating graph and diffusion operator...\n",
            "    Calculating affinities...\n",
            "    Calculated affinities in 0.62 seconds.\n",
            "  Calculated graph and diffusion operator in 0.71 seconds.\n",
            "  Calculating landmark operator...\n",
            "    Calculating SVD...\n",
            "    Calculated SVD in 1.76 seconds.\n",
            "    Calculating KMeans...\n",
            "    Calculated KMeans in 23.73 seconds.\n",
            "  Calculated landmark operator in 26.25 seconds.\n",
            "  Calculating diffusion potential...\n",
            "  Calculated diffusion potential in 4.06 seconds.\n",
            "  Calculating metric MDS...\n",
            "  Calculated metric MDS in 8.66 seconds.\n",
            "Calculated PHATE in 39.74 seconds.\n",
            "Calculating PHATE...\n",
            "  Running PHATE on precomputed distance matrix with 2346 observations.\n",
            "  Calculating graph and diffusion operator...\n",
            "    Calculating affinities...\n",
            "    Calculated affinities in 0.61 seconds.\n",
            "  Calculated graph and diffusion operator in 0.72 seconds.\n",
            "  Calculating landmark operator...\n",
            "    Calculating SVD...\n",
            "    Calculated SVD in 1.81 seconds.\n",
            "    Calculating KMeans...\n",
            "    Calculated KMeans in 26.80 seconds.\n",
            "  Calculated landmark operator in 29.35 seconds.\n",
            "  Calculating diffusion potential...\n",
            "  Calculated diffusion potential in 4.05 seconds.\n",
            "  Calculating metric MDS...\n",
            "  Calculated metric MDS in 8.57 seconds.\n",
            "Calculated PHATE in 42.75 seconds.\n",
            "Calculating PHATE...\n",
            "  Running PHATE on precomputed distance matrix with 2346 observations.\n",
            "  Calculating graph and diffusion operator...\n",
            "    Calculating affinities...\n",
            "    Calculated affinities in 0.61 seconds.\n",
            "  Calculated graph and diffusion operator in 0.71 seconds.\n",
            "  Calculating landmark operator...\n",
            "    Calculating SVD...\n",
            "    Calculated SVD in 1.75 seconds.\n",
            "    Calculating KMeans...\n",
            "    Calculated KMeans in 15.97 seconds.\n",
            "  Calculated landmark operator in 18.46 seconds.\n",
            "  Calculating diffusion potential...\n",
            "  Calculated diffusion potential in 3.53 seconds.\n",
            "  Calculating metric MDS...\n",
            "  Calculated metric MDS in 8.67 seconds.\n",
            "Calculated PHATE in 31.43 seconds.\n",
            "Calculating PHATE...\n",
            "  Running PHATE on precomputed distance matrix with 2346 observations.\n",
            "  Calculating graph and diffusion operator...\n",
            "    Calculating affinities...\n",
            "    Calculated affinities in 0.62 seconds.\n",
            "  Calculated graph and diffusion operator in 0.72 seconds.\n",
            "  Calculating landmark operator...\n",
            "    Calculating SVD...\n",
            "    Calculated SVD in 1.71 seconds.\n",
            "    Calculating KMeans...\n",
            "    Calculated KMeans in 18.27 seconds.\n",
            "  Calculated landmark operator in 20.74 seconds.\n",
            "  Calculating diffusion potential...\n",
            "  Calculated diffusion potential in 4.52 seconds.\n",
            "  Calculating metric MDS...\n",
            "  Calculated metric MDS in 8.58 seconds.\n",
            "Calculated PHATE in 34.61 seconds.\n",
            "Calculating PHATE...\n",
            "  Running PHATE on precomputed distance matrix with 2346 observations.\n",
            "  Calculating graph and diffusion operator...\n",
            "    Calculating affinities...\n",
            "    Calculated affinities in 0.61 seconds.\n",
            "  Calculated graph and diffusion operator in 0.72 seconds.\n",
            "  Calculating landmark operator...\n",
            "    Calculating SVD...\n",
            "    Calculated SVD in 1.79 seconds.\n",
            "    Calculating KMeans...\n",
            "    Calculated KMeans in 18.81 seconds.\n",
            "  Calculated landmark operator in 21.35 seconds.\n",
            "  Calculating diffusion potential...\n",
            "  Calculated diffusion potential in 4.04 seconds.\n",
            "  Calculating metric MDS...\n",
            "  Calculated metric MDS in 8.70 seconds.\n",
            "Calculated PHATE in 34.87 seconds.\n",
            "Calculating PHATE...\n",
            "  Running PHATE on precomputed distance matrix with 2346 observations.\n",
            "  Calculating graph and diffusion operator...\n",
            "    Calculating affinities...\n",
            "    Calculated affinities in 0.62 seconds.\n",
            "  Calculated graph and diffusion operator in 0.71 seconds.\n",
            "  Calculating landmark operator...\n",
            "    Calculating SVD...\n",
            "    Calculated SVD in 1.80 seconds.\n",
            "    Calculating KMeans...\n",
            "    Calculated KMeans in 21.99 seconds.\n",
            "  Calculated landmark operator in 24.52 seconds.\n",
            "  Calculating diffusion potential...\n",
            "  Calculated diffusion potential in 5.01 seconds.\n",
            "  Calculating metric MDS...\n",
            "  Calculated metric MDS in 8.63 seconds.\n",
            "Calculated PHATE in 38.92 seconds.\n",
            "Calculating PHATE...\n",
            "  Running PHATE on precomputed distance matrix with 2346 observations.\n",
            "  Calculating graph and diffusion operator...\n",
            "    Calculating affinities...\n",
            "    Calculated affinities in 0.63 seconds.\n",
            "  Calculated graph and diffusion operator in 0.72 seconds.\n",
            "  Calculating landmark operator...\n",
            "    Calculating SVD...\n",
            "    Calculated SVD in 1.80 seconds.\n",
            "    Calculating KMeans...\n",
            "    Calculated KMeans in 16.50 seconds.\n",
            "  Calculated landmark operator in 19.03 seconds.\n",
            "  Calculating diffusion potential...\n",
            "  Calculated diffusion potential in 4.51 seconds.\n",
            "  Calculating metric MDS...\n",
            "  Calculated metric MDS in 8.56 seconds.\n",
            "Calculated PHATE in 32.88 seconds.\n",
            "Calculating PHATE...\n",
            "  Running PHATE on precomputed distance matrix with 2346 observations.\n",
            "  Calculating graph and diffusion operator...\n",
            "    Calculating affinities...\n",
            "    Calculated affinities in 0.62 seconds.\n",
            "  Calculated graph and diffusion operator in 0.71 seconds.\n",
            "  Calculating landmark operator...\n",
            "    Calculating SVD...\n",
            "    Calculated SVD in 1.73 seconds.\n",
            "    Calculating KMeans...\n",
            "    Calculated KMeans in 25.42 seconds.\n",
            "  Calculated landmark operator in 27.90 seconds.\n",
            "  Calculating diffusion potential...\n",
            "  Calculated diffusion potential in 4.00 seconds.\n",
            "  Calculating metric MDS...\n",
            "  Calculated metric MDS in 8.54 seconds.\n",
            "Calculated PHATE in 41.22 seconds.\n",
            "Calculating PHATE...\n",
            "  Running PHATE on precomputed distance matrix with 2346 observations.\n",
            "  Calculating graph and diffusion operator...\n",
            "    Calculating affinities...\n",
            "    Calculated affinities in 0.62 seconds.\n",
            "  Calculated graph and diffusion operator in 0.71 seconds.\n",
            "  Calculating landmark operator...\n",
            "    Calculating SVD...\n",
            "    Calculated SVD in 1.78 seconds.\n",
            "    Calculating KMeans...\n",
            "    Calculated KMeans in 15.94 seconds.\n",
            "  Calculated landmark operator in 18.48 seconds.\n",
            "  Calculating diffusion potential...\n",
            "  Calculated diffusion potential in 4.55 seconds.\n",
            "  Calculating metric MDS...\n",
            "  Calculated metric MDS in 8.53 seconds.\n",
            "Calculated PHATE in 32.32 seconds.\n",
            "Calculating PHATE...\n",
            "  Running PHATE on precomputed distance matrix with 2346 observations.\n",
            "  Calculating graph and diffusion operator...\n",
            "    Calculating affinities...\n",
            "    Calculated affinities in 0.61 seconds.\n",
            "  Calculated graph and diffusion operator in 0.71 seconds.\n",
            "  Calculating landmark operator...\n",
            "    Calculating SVD...\n",
            "    Calculated SVD in 1.79 seconds.\n",
            "    Calculating KMeans...\n",
            "    Calculated KMeans in 17.38 seconds.\n",
            "  Calculated landmark operator in 19.91 seconds.\n",
            "  Calculating diffusion potential...\n",
            "  Calculated diffusion potential in 4.98 seconds.\n",
            "  Calculating metric MDS...\n",
            "  Calculated metric MDS in 8.46 seconds.\n",
            "Calculated PHATE in 34.12 seconds.\n"
          ],
          "name": "stdout"
        }
      ]
    },
    {
      "cell_type": "code",
      "metadata": {
        "id": "J6sVI_zn0QOV",
        "colab": {
          "base_uri": "https://localhost:8080/",
          "height": 324
        },
        "outputId": "613f6be6-5f62-45f0-8373-d66aa01bf09d"
      },
      "source": [
        "data.head() # Double check"
      ],
      "execution_count": null,
      "outputs": [
        {
          "output_type": "execute_result",
          "data": {
            "text/html": [
              "<div>\n",
              "<style scoped>\n",
              "    .dataframe tbody tr th:only-of-type {\n",
              "        vertical-align: middle;\n",
              "    }\n",
              "\n",
              "    .dataframe tbody tr th {\n",
              "        vertical-align: top;\n",
              "    }\n",
              "\n",
              "    .dataframe thead th {\n",
              "        text-align: right;\n",
              "    }\n",
              "</style>\n",
              "<table border=\"1\" class=\"dataframe\">\n",
              "  <thead>\n",
              "    <tr style=\"text-align: right;\">\n",
              "      <th></th>\n",
              "      <th>Unnamed: 0</th>\n",
              "      <th>clone_id</th>\n",
              "      <th>subject</th>\n",
              "      <th>v_gene</th>\n",
              "      <th>j_gene</th>\n",
              "      <th>functional</th>\n",
              "      <th>insertions</th>\n",
              "      <th>deletions</th>\n",
              "      <th>cdr3_nt</th>\n",
              "      <th>cdr3_num_nts</th>\n",
              "      <th>cdr3_aa</th>\n",
              "      <th>uniques</th>\n",
              "      <th>instances</th>\n",
              "      <th>copies</th>\n",
              "      <th>germline</th>\n",
              "      <th>parent_id</th>\n",
              "      <th>avg_v_identity</th>\n",
              "      <th>top_copy_seq</th>\n",
              "      <th>timepoint</th>\n",
              "      <th>phate1</th>\n",
              "      <th>phate2</th>\n",
              "    </tr>\n",
              "  </thead>\n",
              "  <tbody>\n",
              "    <tr>\n",
              "      <th>0</th>\n",
              "      <td>2</td>\n",
              "      <td>254989</td>\n",
              "      <td>IHCV2020-020</td>\n",
              "      <td>IGHV1-18</td>\n",
              "      <td>IGHJ5</td>\n",
              "      <td>T</td>\n",
              "      <td>NaN</td>\n",
              "      <td>NaN</td>\n",
              "      <td>TGTGCGAGGAGGGGAATAGGTCGAAACGACCCCTGG</td>\n",
              "      <td>36</td>\n",
              "      <td>CARRGIGRNDPW</td>\n",
              "      <td>972</td>\n",
              "      <td>833</td>\n",
              "      <td>2036</td>\n",
              "      <td>CAGGTTCAGCTGGTGCAGTCTGGAGCT---GAGGTGAAGAAGCCTG...</td>\n",
              "      <td>NaN</td>\n",
              "      <td>0.9356</td>\n",
              "      <td>NNNNNNNNNNNNNNNNNNNNNNNNNNN---NNNNNNNNNNNNNNNN...</td>\n",
              "      <td>1</td>\n",
              "      <td>-0.011571</td>\n",
              "      <td>-0.003692</td>\n",
              "    </tr>\n",
              "    <tr>\n",
              "      <th>1</th>\n",
              "      <td>690</td>\n",
              "      <td>426166</td>\n",
              "      <td>IHCV2020-020</td>\n",
              "      <td>IGHV4-59</td>\n",
              "      <td>IGHJ3</td>\n",
              "      <td>T</td>\n",
              "      <td>NaN</td>\n",
              "      <td>NaN</td>\n",
              "      <td>TGTGCGAGGTTTGGTATTACCATGGTAGTGGTCGACGATGCTTTTG...</td>\n",
              "      <td>54</td>\n",
              "      <td>CARFGITMVVVDDAFDLW</td>\n",
              "      <td>569</td>\n",
              "      <td>576</td>\n",
              "      <td>1793</td>\n",
              "      <td>CAGGTGCAGCTGCAGGAGTCGGGCCCA---GGACTGGTGAAGCCTT...</td>\n",
              "      <td>NaN</td>\n",
              "      <td>0.8917</td>\n",
              "      <td>NNNNNNNNNNNNNNNNNNNNNNNNNNN---NNNNNNNNNNNNNNNN...</td>\n",
              "      <td>1</td>\n",
              "      <td>-0.010989</td>\n",
              "      <td>-0.002568</td>\n",
              "    </tr>\n",
              "    <tr>\n",
              "      <th>2</th>\n",
              "      <td>331</td>\n",
              "      <td>260919</td>\n",
              "      <td>IHCV2020-020</td>\n",
              "      <td>IGHV1-2</td>\n",
              "      <td>IGHJ5</td>\n",
              "      <td>T</td>\n",
              "      <td>NaN</td>\n",
              "      <td>NaN</td>\n",
              "      <td>TGTGCGAGATCCTCTGAGGGGAGTGGCCCCTGGGTCTGGTTCGACC...</td>\n",
              "      <td>51</td>\n",
              "      <td>CARSSEGSGPWVWFDPW</td>\n",
              "      <td>739</td>\n",
              "      <td>744</td>\n",
              "      <td>1789</td>\n",
              "      <td>CAGGTGCAGCTGGTGCAGTCTGGGGCT---GAGGTGAAGAAGCCTG...</td>\n",
              "      <td>NaN</td>\n",
              "      <td>0.9621</td>\n",
              "      <td>NNNNNNNNNNNNNNNNNNNNNNNNNNN---NNNNNNNNNNNNNNNN...</td>\n",
              "      <td>1</td>\n",
              "      <td>-0.010439</td>\n",
              "      <td>0.001696</td>\n",
              "    </tr>\n",
              "    <tr>\n",
              "      <th>3</th>\n",
              "      <td>443</td>\n",
              "      <td>302176</td>\n",
              "      <td>IHCV2020-020</td>\n",
              "      <td>IGHV3-21</td>\n",
              "      <td>IGHJ5</td>\n",
              "      <td>T</td>\n",
              "      <td>NaN</td>\n",
              "      <td>NaN</td>\n",
              "      <td>TGTGCGAGACACGCTACAGGAATTACGGATTGCTGGTTCGACCCCTGG</td>\n",
              "      <td>48</td>\n",
              "      <td>CARHATGITDCWFDPW</td>\n",
              "      <td>754</td>\n",
              "      <td>771</td>\n",
              "      <td>1616</td>\n",
              "      <td>GAGGTGCAGCTGGTGGAGTCTGGGGGA---GGCCTGGTCAAGCCTG...</td>\n",
              "      <td>NaN</td>\n",
              "      <td>0.9564</td>\n",
              "      <td>NNNNNNNNNNNNNNNNNNNNNNNNNNN---NNNNNNNNNNNNNNNN...</td>\n",
              "      <td>1</td>\n",
              "      <td>-0.012105</td>\n",
              "      <td>-0.000646</td>\n",
              "    </tr>\n",
              "    <tr>\n",
              "      <th>4</th>\n",
              "      <td>660</td>\n",
              "      <td>404050</td>\n",
              "      <td>IHCV2020-020</td>\n",
              "      <td>IGHV4-31</td>\n",
              "      <td>IGHJ5</td>\n",
              "      <td>T</td>\n",
              "      <td>NaN</td>\n",
              "      <td>NaN</td>\n",
              "      <td>TGTGCGAATCATAGGGCTTGGAGAGGGGGGTTCGACTCCTGG</td>\n",
              "      <td>42</td>\n",
              "      <td>CANHRAWRGGFDSW</td>\n",
              "      <td>575</td>\n",
              "      <td>585</td>\n",
              "      <td>1592</td>\n",
              "      <td>CAGGTGCAGCTGCAGGAGTCGGGCCCA---GGACTGGTGAAGCCTT...</td>\n",
              "      <td>NaN</td>\n",
              "      <td>0.9549</td>\n",
              "      <td>NNNNNNNNNNNNNNNNNNNNNNNNNNN---NNNNNNNNNNNNNNNN...</td>\n",
              "      <td>1</td>\n",
              "      <td>-0.009778</td>\n",
              "      <td>-0.003369</td>\n",
              "    </tr>\n",
              "  </tbody>\n",
              "</table>\n",
              "</div>"
            ],
            "text/plain": [
              "   Unnamed: 0  clone_id       subject  ... timepoint    phate1    phate2\n",
              "0           2    254989  IHCV2020-020  ...         1 -0.011571 -0.003692\n",
              "1         690    426166  IHCV2020-020  ...         1 -0.010989 -0.002568\n",
              "2         331    260919  IHCV2020-020  ...         1 -0.010439  0.001696\n",
              "3         443    302176  IHCV2020-020  ...         1 -0.012105 -0.000646\n",
              "4         660    404050  IHCV2020-020  ...         1 -0.009778 -0.003369\n",
              "\n",
              "[5 rows x 21 columns]"
            ]
          },
          "metadata": {
            "tags": []
          },
          "execution_count": 18
        }
      ]
    },
    {
      "cell_type": "code",
      "metadata": {
        "colab": {
          "base_uri": "https://localhost:8080/",
          "height": 461
        },
        "id": "GpegJ2yw9plZ",
        "outputId": "854352c0-9bbf-4df4-c3f3-c7c1db7eda77"
      },
      "source": [
        "plt.hist(adj_matrix.flatten(), 25)"
      ],
      "execution_count": null,
      "outputs": [
        {
          "output_type": "execute_result",
          "data": {
            "text/plain": [
              "(array([4.500000e+03, 1.024000e+03, 8.320000e+02, 1.768000e+03,\n",
              "        6.268000e+03, 2.415000e+04, 2.637480e+05, 3.577920e+05,\n",
              "        5.374280e+05, 6.670800e+05, 7.383500e+05, 7.333260e+05,\n",
              "        1.164888e+06, 3.787340e+05, 2.511220e+05, 1.596860e+05,\n",
              "        1.008680e+05, 5.878200e+04, 4.452000e+04, 5.992000e+03,\n",
              "        2.052000e+03, 6.140000e+02, 1.660000e+02, 2.000000e+01,\n",
              "        6.000000e+00]),\n",
              " array([ 0.  ,  1.16,  2.32,  3.48,  4.64,  5.8 ,  6.96,  8.12,  9.28,\n",
              "        10.44, 11.6 , 12.76, 13.92, 15.08, 16.24, 17.4 , 18.56, 19.72,\n",
              "        20.88, 22.04, 23.2 , 24.36, 25.52, 26.68, 27.84, 29.  ]),\n",
              " <a list of 25 Patch objects>)"
            ]
          },
          "metadata": {
            "tags": []
          },
          "execution_count": 13
        },
        {
          "output_type": "display_data",
          "data": {
            "image/png": "[encoded data removed]",
            "text/plain": [
              "<Figure size 432x288 with 1 Axes>"
            ]
          },
          "metadata": {
            "tags": [],
            "needs_background": "light"
          }
        }
      ]
    },
    {
      "cell_type": "code",
      "metadata": {
        "colab": {
          "base_uri": "https://localhost:8080/",
          "height": 269
        },
        "id": "9a2BxqBK-wXF",
        "outputId": "69ce7f19-0afe-4618-9772-ff8f6164f43f"
      },
      "source": [
        "plt.imshow(adj_matrix, cmap='hot', interpolation='nearest')\n",
        "plt.show()"
      ],
      "execution_count": null,
      "outputs": [
        {
          "output_type": "display_data",
          "data": {
            "image/png": "[encoded data removed]",
            "text/plain": [
              "<Figure size 432x288 with 1 Axes>"
            ]
          },
          "metadata": {
            "tags": [],
            "needs_background": "light"
          }
        }
      ]
    },
    {
      "cell_type": "code",
      "metadata": {
        "colab": {
          "base_uri": "https://localhost:8080/",
          "height": 315
        },
        "id": "sxCzXoLC_HkH",
        "outputId": "bfecfb41-201d-4fda-fff5-3eaed0c3ddfe"
      },
      "source": [
        "# Cdr3 length distribution \n",
        "plt.hist([len(i) for i in seqs])"
      ],
      "execution_count": null,
      "outputs": [
        {
          "output_type": "execute_result",
          "data": {
            "text/plain": [
              "(array([  1.,  14.,  97., 525., 621., 583., 352., 124.,  25.,   4.]),\n",
              " array([ 4. ,  6.8,  9.6, 12.4, 15.2, 18. , 20.8, 23.6, 26.4, 29.2, 32. ]),\n",
              " <a list of 10 Patch objects>)"
            ]
          },
          "metadata": {
            "tags": []
          },
          "execution_count": 15
        },
        {
          "output_type": "display_data",
          "data": {
            "image/png": "[encoded data removed]",
            "text/plain": [
              "<Figure size 432x288 with 1 Axes>"
            ]
          },
          "metadata": {
            "tags": [],
            "needs_background": "light"
          }
        }
      ]
    },
    {
      "cell_type": "markdown",
      "metadata": {
        "id": "JPvB5Nim44uF"
      },
      "source": [
        "PHATE graph probably looks as expected, with similarities in strings"
      ]
    }
  ]
}